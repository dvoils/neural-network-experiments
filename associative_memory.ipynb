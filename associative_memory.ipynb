{
  "nbformat": 4,
  "nbformat_minor": 0,
  "metadata": {
    "colab": {
      "provenance": [],
      "authorship_tag": "ABX9TyMyhhX5Mz3Mk9ngf0vIPazP",
      "include_colab_link": true
    },
    "kernelspec": {
      "name": "python3",
      "display_name": "Python 3"
    },
    "language_info": {
      "name": "python"
    }
  },
  "cells": [
    {
      "cell_type": "markdown",
      "metadata": {
        "id": "view-in-github",
        "colab_type": "text"
      },
      "source": [
        "<a href=\"https://colab.research.google.com/github/dvoils/neural-network-experiments/blob/main/associative_memory.ipynb\" target=\"_parent\"><img src=\"https://colab.research.google.com/assets/colab-badge.svg\" alt=\"Open In Colab\"/></a>"
      ]
    },
    {
      "cell_type": "code",
      "execution_count": 1,
      "metadata": {
        "colab": {
          "base_uri": "https://localhost:8080/"
        },
        "id": "WevAuESAy8Yh",
        "outputId": "c2127ba7-f05d-4b95-cc85-71a4e3193b3c"
      },
      "outputs": [
        {
          "output_type": "stream",
          "name": "stdout",
          "text": [
            "Distances from perturbed input to stored patterns:\n",
            "  Pattern 0: 0.3467\n",
            "  Pattern 1: 3.1058\n",
            "  Pattern 2: 2.3450\n",
            "  Pattern 3: 2.0656\n",
            "\n",
            "Distances from recalled output to stored patterns:\n",
            "  Pattern 0: 0.0009\n",
            "  Pattern 1: 2.8275\n",
            "  Pattern 2: 1.9993\n",
            "  Pattern 3: 1.9993\n",
            "\n",
            "Recalled state: [0.99932746 0.99934214]\n",
            "Original pattern index: 0, Pattern: [1. 1.]\n"
          ]
        }
      ],
      "source": [
        "import numpy as np\n",
        "from scipy.integrate import ode\n",
        "\n",
        "# Define a distance metric\n",
        "def euclidean_distance(x, y):\n",
        "    return np.linalg.norm(x - y)\n",
        "\n",
        "# Stored patterns in R^2\n",
        "patterns = np.array([\n",
        "    [1.0, 1.0],\n",
        "    [-1.0, -1.0],\n",
        "    [1.0, -1.0],\n",
        "    [-1.0, 1.0]\n",
        "])\n",
        "\n",
        "sigma = 0.5\n",
        "\n",
        "# Softmax weights\n",
        "def weights(x):\n",
        "    dists = np.array([np.linalg.norm(x - p)**2 for p in patterns])\n",
        "    exps = np.exp(-0.5 * dists / sigma**2)\n",
        "    return exps / np.sum(exps)\n",
        "\n",
        "# ODE dynamics\n",
        "def memory_dynamics(t, x):\n",
        "    x = np.array(x)\n",
        "    w = weights(x)\n",
        "    dxdt = sum(w[i] * (patterns[i] - x) for i in range(len(patterns)))\n",
        "    return dxdt\n",
        "\n",
        "# Perturb a pattern\n",
        "true_pattern_index = 0\n",
        "true_pattern = patterns[true_pattern_index]\n",
        "perturbation = np.random.normal(scale=0.4, size=true_pattern.shape)\n",
        "x0 = true_pattern + perturbation\n",
        "\n",
        "# Distance from input to all patterns\n",
        "input_distances = [euclidean_distance(x0, p) for p in patterns]\n",
        "\n",
        "# Integrate ODE\n",
        "solver = ode(memory_dynamics)\n",
        "solver.set_integrator('dopri5')\n",
        "solver.set_initial_value(x0, 0)\n",
        "\n",
        "dt = 0.05\n",
        "t_max = 10\n",
        "while solver.successful() and solver.t < t_max:\n",
        "    solver.integrate(solver.t + dt)\n",
        "\n",
        "final_state = solver.y\n",
        "output_distances = [euclidean_distance(final_state, p) for p in patterns]\n",
        "\n",
        "# Print results\n",
        "print(\"Distances from perturbed input to stored patterns:\")\n",
        "for i, d in enumerate(input_distances):\n",
        "    print(f\"  Pattern {i}: {d:.4f}\")\n",
        "\n",
        "print(\"\\nDistances from recalled output to stored patterns:\")\n",
        "for i, d in enumerate(output_distances):\n",
        "    print(f\"  Pattern {i}: {d:.4f}\")\n",
        "\n",
        "print(f\"\\nRecalled state: {final_state}\")\n",
        "print(f\"Original pattern index: {true_pattern_index}, Pattern: {true_pattern}\")\n"
      ]
    }
  ]
}