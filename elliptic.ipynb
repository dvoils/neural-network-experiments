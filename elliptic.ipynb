{
  "nbformat": 4,
  "nbformat_minor": 0,
  "metadata": {
    "colab": {
      "provenance": [],
      "machine_shape": "hm",
      "authorship_tag": "ABX9TyMARyT5dgVjOIHIGCznRCaM",
      "include_colab_link": true
    },
    "kernelspec": {
      "name": "python3",
      "display_name": "Python 3"
    },
    "language_info": {
      "name": "python"
    }
  },
  "cells": [
    {
      "cell_type": "markdown",
      "metadata": {
        "id": "view-in-github",
        "colab_type": "text"
      },
      "source": [
        "<a href=\"https://colab.research.google.com/github/dvoils/neural-network-experiments/blob/main/elliptic.ipynb\" target=\"_parent\"><img src=\"https://colab.research.google.com/assets/colab-badge.svg\" alt=\"Open In Colab\"/></a>"
      ]
    },
    {
      "cell_type": "markdown",
      "source": [
        "# The Eliptic Dataset\n",
        "\n",
        "The [Elliptic Dataset](https://www.kaggle.com/datasets/ellipticco/elliptic-data-set) is a graph of over 200,000 Bitcoin transactions labeled as licit, illicit, or unknown. Each node has 166 features and belongs to a time step. Edges represent fund flows. It supports temporal, graph-based machine learning for detecting financial crime, with real-world labels from exchanges, scams, ransomware, and more."
      ],
      "metadata": {
        "id": "g4d6BeFr4THb"
      }
    },
    {
      "cell_type": "markdown",
      "source": [
        "# Download Dataset"
      ],
      "metadata": {
        "id": "NG801anjvJun"
      }
    },
    {
      "cell_type": "code",
      "source": [
        "from google.colab import drive\n",
        "drive.mount('/content/drive')\n"
      ],
      "metadata": {
        "colab": {
          "base_uri": "https://localhost:8080/"
        },
        "id": "5IqqTxMvygvA",
        "outputId": "24b47f4c-bc16-4a0e-a1fc-05443c3daf3f"
      },
      "execution_count": 2,
      "outputs": [
        {
          "output_type": "stream",
          "name": "stdout",
          "text": [
            "Mounted at /content/drive\n"
          ]
        }
      ]
    },
    {
      "cell_type": "markdown",
      "source": [
        "# Unzip the Dataset to local"
      ],
      "metadata": {
        "id": "HVKgkUWvvRTJ"
      }
    },
    {
      "cell_type": "code",
      "source": [
        "import zipfile\n",
        "\n",
        "# Path to your zip file in Google Drive\n",
        "zip_path = \"/content/drive/MyDrive/elliptic/archive.zip\"\n",
        "\n",
        "# Extract it into current directory\n",
        "with zipfile.ZipFile(zip_path, 'r') as zip_ref:\n",
        "    zip_ref.extractall(\"/content\")\n"
      ],
      "metadata": {
        "id": "5GaZ4nrCy0yp"
      },
      "execution_count": 3,
      "outputs": []
    },
    {
      "cell_type": "markdown",
      "source": [
        "# Load the CSVs"
      ],
      "metadata": {
        "id": "p54-uQkHAm5T"
      }
    },
    {
      "cell_type": "code",
      "source": [
        "import pandas as pd\n",
        "import os\n",
        "\n",
        "extract_path = \"/content/elliptic_bitcoin_dataset\"\n",
        "print(\"Extracted files:\", os.listdir(extract_path))\n",
        "\n",
        "features_df = pd.read_csv(f\"{extract_path}/elliptic_txs_features.csv\", header=None)\n",
        "classes_df = pd.read_csv(f\"{extract_path}/elliptic_txs_classes.csv\")\n",
        "edgelist_df = pd.read_csv(f\"{extract_path}/elliptic_txs_edgelist.csv\")\n",
        "\n",
        "print(\"Features shape:\", features_df.shape)\n",
        "print(\"Classes shape:\", classes_df.shape)\n",
        "print(\"Edgelist shape:\", edgelist_df.shape)\n"
      ],
      "metadata": {
        "colab": {
          "base_uri": "https://localhost:8080/"
        },
        "id": "UJVm06_gt6Jk",
        "outputId": "f2a62d54-d67a-45cc-f595-f0e513693310"
      },
      "execution_count": 4,
      "outputs": [
        {
          "output_type": "stream",
          "name": "stdout",
          "text": [
            "Extracted files: ['elliptic_txs_edgelist.csv', 'elliptic_txs_features.csv', 'elliptic_txs_classes.csv']\n",
            "Features shape: (203769, 167)\n",
            "Classes shape: (203769, 2)\n",
            "Edgelist shape: (234355, 2)\n"
          ]
        }
      ]
    },
    {
      "cell_type": "markdown",
      "source": [
        "# Preprocess CSVs into PyTorch Geometric Format\n",
        "\n",
        "Extract the 166 numerical features for each transaction (excluding the tx ID), then converts them into a PyTorch float tensor. It creates the node feature matrix `x`, used by GNN models to learn from transaction behavior patterns."
      ],
      "metadata": {
        "id": "KpS9WFnyz_m1"
      }
    },
    {
      "cell_type": "code",
      "source": [
        "import torch\n",
        "\n",
        "# First column is tx ID (string), rest are features\n",
        "tx_ids = features_df[0].values\n",
        "features = features_df.iloc[:, 1:].values\n",
        "\n",
        "# Convert to tensor\n",
        "x = torch.tensor(features, dtype=torch.float)\n",
        "print(\"Node features tensor shape:\", x.shape)\n"
      ],
      "metadata": {
        "colab": {
          "base_uri": "https://localhost:8080/"
        },
        "id": "apCg088Y0BUg",
        "outputId": "f5d9b818-7900-4125-bd02-622309d2aaab"
      },
      "execution_count": 5,
      "outputs": [
        {
          "output_type": "stream",
          "name": "stdout",
          "text": [
            "Node features tensor shape: torch.Size([203769, 166])\n"
          ]
        }
      ]
    },
    {
      "cell_type": "markdown",
      "source": [
        "# Map tx_ids to node indices\n",
        "\n",
        "This creates a dictionary mapping each transaction ID to its row index in the feature matrix. It enables quick lookup of node positions when assigning labels or building graph edges from transaction IDs found in other files."
      ],
      "metadata": {
        "id": "9HEvWKXy0pgc"
      }
    },
    {
      "cell_type": "code",
      "source": [
        "# Create a mapping from tx ID to index\n",
        "tx_id_to_idx = {tx_id: idx for idx, tx_id in enumerate(tx_ids)}"
      ],
      "metadata": {
        "id": "MBdoaCHG02-H"
      },
      "execution_count": 6,
      "outputs": []
    },
    {
      "cell_type": "markdown",
      "source": [
        "# Build the edge index from the edgelist\n",
        "\n",
        "This maps transaction IDs in the edge list to integer indices using the feature matrix. It filters out invalid edges, then creates a PyTorch tensor edge_index representing graph connectivity for use in graph neural networks."
      ],
      "metadata": {
        "id": "_XVfp2M71AF0"
      }
    },
    {
      "cell_type": "code",
      "source": [
        "# Map transaction IDs in edge list to integer indices\n",
        "src = edgelist_df['txId1'].map(tx_id_to_idx)\n",
        "dst = edgelist_df['txId2'].map(tx_id_to_idx)\n",
        "\n",
        "# Drop rows with missing mappings (if any txId isn't in features_df)\n",
        "mask = src.notnull() & dst.notnull()\n",
        "src = src[mask].astype(int)\n",
        "dst = dst[mask].astype(int)\n",
        "\n",
        "# Build edge index\n",
        "edge_index = torch.tensor([src.values, dst.values], dtype=torch.long)\n",
        "print(\"Edge index shape:\", edge_index.shape)\n"
      ],
      "metadata": {
        "colab": {
          "base_uri": "https://localhost:8080/"
        },
        "id": "HqudxOY51K2d",
        "outputId": "835d4df7-df5f-44d3-ec18-d93e1225e671"
      },
      "execution_count": 7,
      "outputs": [
        {
          "output_type": "stream",
          "name": "stdout",
          "text": [
            "Edge index shape: torch.Size([2, 234355])\n"
          ]
        },
        {
          "output_type": "stream",
          "name": "stderr",
          "text": [
            "<ipython-input-7-feecf152710a>:11: UserWarning: Creating a tensor from a list of numpy.ndarrays is extremely slow. Please consider converting the list to a single numpy.ndarray with numpy.array() before converting to a tensor. (Triggered internally at /pytorch/torch/csrc/utils/tensor_new.cpp:254.)\n",
            "  edge_index = torch.tensor([src.values, dst.values], dtype=torch.long)\n"
          ]
        }
      ]
    },
    {
      "cell_type": "markdown",
      "source": [
        "# Assign Labels\n",
        "\n",
        "Convert label strings into integers so that the model can understand them.\n",
        "\n",
        "Unknown transactions lack ground truth but can be useful for testing. While not suitable for training or evaluation metrics, they’re valuable for simulating how the model performs on unlabeled blockchain data."
      ],
      "metadata": {
        "id": "tBLMpnYKNI5V"
      }
    },
    {
      "cell_type": "code",
      "source": [
        "# Apply unknown mapping\n",
        "label_map = {'unknown': -1, '1': 0, '2': 1}\n",
        "\n",
        "# Apply mapping\n",
        "classes_df['label'] = classes_df['class'].map(label_map)\n",
        "\n",
        "# Check mapping worked\n",
        "print(classes_df['label'].value_counts(dropna=False))\n"
      ],
      "metadata": {
        "colab": {
          "base_uri": "https://localhost:8080/"
        },
        "id": "tFaeOpYFHWC8",
        "outputId": "96756fc6-ad62-4fce-b8c4-777f9e752a92"
      },
      "execution_count": 8,
      "outputs": [
        {
          "output_type": "stream",
          "name": "stdout",
          "text": [
            "label\n",
            "-1    157205\n",
            " 1     42019\n",
            " 0      4545\n",
            "Name: count, dtype: int64\n"
          ]
        }
      ]
    },
    {
      "cell_type": "markdown",
      "source": [
        "# Create Label Tensor\n",
        "\n",
        "This builds a label tensor y matching node indices. It sets -1 for unknowns and assigns labels (0=licit, 1=illicit) where available. It ensures labels align with feature rows and supports later filtering for training or evaluation."
      ],
      "metadata": {
        "id": "4pZIShPJ-lQF"
      }
    },
    {
      "cell_type": "code",
      "source": [
        "import torch\n",
        "import pandas as pd\n",
        "\n",
        "# Rebuild mapping from txId to index in features\n",
        "tx_ids = features_df[0].values\n",
        "tx_id_to_idx = {tx_id: idx for idx, tx_id in enumerate(tx_ids)}\n",
        "\n",
        "# Initialize labels tensor\n",
        "y = torch.full((len(tx_ids),), -1, dtype=torch.long)\n",
        "\n",
        "# Assign labels where known\n",
        "for row in classes_df.itertuples(index=False):\n",
        "    tx_id = row.txId\n",
        "    label = row.label\n",
        "    if tx_id in tx_id_to_idx and not pd.isna(label) and label != -1:\n",
        "        y[tx_id_to_idx[tx_id]] = int(label)\n",
        "\n",
        "print(\"Label vector shape:\", y.shape)\n",
        "print(\"Labeled nodes:\", (y != -1).sum().item())\n"
      ],
      "metadata": {
        "colab": {
          "base_uri": "https://localhost:8080/"
        },
        "id": "d7-RjzL21wDX",
        "outputId": "f9a96bfe-3f84-4ca8-924c-91819e42813a"
      },
      "execution_count": 9,
      "outputs": [
        {
          "output_type": "stream",
          "name": "stdout",
          "text": [
            "Label vector shape: torch.Size([203769])\n",
            "Labeled nodes: 46564\n"
          ]
        }
      ]
    },
    {
      "cell_type": "markdown",
      "source": [
        "# Install PyTorch Geometric"
      ],
      "metadata": {
        "id": "xPe7RM-H8Pa-"
      }
    },
    {
      "cell_type": "code",
      "source": [
        "# Then reinstall with the correct CUDA version for Colab (PyTorch 2.0 + CUDA 11.8)\n",
        "!pip install -q torch-scatter torch-sparse torch-geometric \\\n",
        "  -f https://data.pyg.org/whl/torch-2.0.0+cu118.html\n"
      ],
      "metadata": {
        "colab": {
          "base_uri": "https://localhost:8080/"
        },
        "id": "JEnD1Jkb7-77",
        "outputId": "338d7ee9-4acd-4d93-dce2-5708ae6dff11"
      },
      "execution_count": 10,
      "outputs": [
        {
          "output_type": "stream",
          "name": "stdout",
          "text": [
            "\u001b[2K     \u001b[90m━━━━━━━━━━━━━━━━━━━━━━━━━━━━━━━━━━━━━━━━\u001b[0m \u001b[32m10.2/10.2 MB\u001b[0m \u001b[31m53.3 MB/s\u001b[0m eta \u001b[36m0:00:00\u001b[0m\n",
            "\u001b[2K     \u001b[90m━━━━━━━━━━━━━━━━━━━━━━━━━━━━━━━━━━━━━━━━\u001b[0m \u001b[32m4.9/4.9 MB\u001b[0m \u001b[31m39.9 MB/s\u001b[0m eta \u001b[36m0:00:00\u001b[0m\n",
            "\u001b[2K     \u001b[90m━━━━━━━━━━━━━━━━━━━━━━━━━━━━━━━━━━━━━━━━\u001b[0m \u001b[32m63.1/63.1 kB\u001b[0m \u001b[31m1.8 MB/s\u001b[0m eta \u001b[36m0:00:00\u001b[0m\n",
            "\u001b[2K   \u001b[90m━━━━━━━━━━━━━━━━━━━━━━━━━━━━━━━━━━━━━━━━\u001b[0m \u001b[32m1.1/1.1 MB\u001b[0m \u001b[31m18.6 MB/s\u001b[0m eta \u001b[36m0:00:00\u001b[0m\n",
            "\u001b[?25h"
          ]
        }
      ]
    },
    {
      "cell_type": "markdown",
      "source": [
        "# Build the training subgraph\n",
        "\n",
        "Use transactions from time steps 1–30 for training. Map tx IDs to node indices, filter edges accordingly, and extract features and labels for training. The graph is relabeled to ensure proper indexing for GNN training.\n",
        "\n"
      ],
      "metadata": {
        "id": "XeZOWUUo9aQ-"
      }
    },
    {
      "cell_type": "code",
      "source": [
        "# Load time step information from features_df\n",
        "time_info = features_df.iloc[:, 0:2]  # tx_id and time_step\n",
        "time_info.columns = ['tx_id', 'time_step']\n",
        "\n",
        "# Define time ranges\n",
        "train_range = range(1, 31)   # time steps 1–30\n",
        "test_range = range(31, 50)   # time steps 31–49\n",
        "\n",
        "# Extract tx_ids by time range\n",
        "train_ids = time_info[time_info['time_step'].isin(train_range)]['tx_id'].values\n",
        "test_ids = time_info[time_info['time_step'].isin(test_range)]['tx_id'].values\n",
        "\n",
        "# Convert tx_ids to node indices (filter missing)\n",
        "train_idx = [tx_id_to_idx[tx_id] for tx_id in train_ids if tx_id in tx_id_to_idx]\n",
        "test_idx = [tx_id_to_idx[tx_id] for tx_id in test_ids if tx_id in tx_id_to_idx]\n",
        "\n",
        "# Extract subgraph for training\n",
        "from torch_geometric.utils import subgraph\n",
        "\n",
        "train_idx_tensor = torch.tensor(train_idx, dtype=torch.long)\n",
        "train_edge_index, _ = subgraph(train_idx_tensor, edge_index, relabel_nodes=True)\n",
        "\n",
        "# Map original indices to new (relabeling)\n",
        "old_to_new = {old.item(): new for new, old in enumerate(train_idx_tensor)}\n",
        "\n",
        "# Update labels and features for training\n",
        "x_train = x[train_idx_tensor]\n",
        "y_train = y[train_idx_tensor]\n",
        "\n",
        "# Build train_data object\n",
        "from torch_geometric.data import Data\n",
        "\n",
        "train_data = Data(x=x_train, edge_index=train_edge_index, y=y_train)\n",
        "\n",
        "print(f\"Train subgraph: {train_data}\")\n",
        "print(f\"# of training nodes: {train_data.num_nodes}\")\n",
        "print(f\"# of edges: {train_data.num_edges}\")\n"
      ],
      "metadata": {
        "colab": {
          "base_uri": "https://localhost:8080/"
        },
        "id": "-fUzJh-lGxJ2",
        "outputId": "a236abbc-88e9-42c6-d7ca-4a1bc2093e3e"
      },
      "execution_count": 11,
      "outputs": [
        {
          "output_type": "stream",
          "name": "stderr",
          "text": [
            "/usr/local/lib/python3.11/dist-packages/torch_geometric/typing.py:86: UserWarning: An issue occurred while importing 'torch-scatter'. Disabling its usage. Stacktrace: /usr/local/lib/python3.11/dist-packages/torch_scatter/_version_cuda.so: undefined symbol: _ZN3c1017RegisterOperatorsD1Ev\n",
            "  warnings.warn(f\"An issue occurred while importing 'torch-scatter'. \"\n",
            "/usr/local/lib/python3.11/dist-packages/torch_geometric/typing.py:124: UserWarning: An issue occurred while importing 'torch-sparse'. Disabling its usage. Stacktrace: /usr/local/lib/python3.11/dist-packages/torch_sparse/_version_cuda.so: undefined symbol: _ZN3c1017RegisterOperatorsD1Ev\n",
            "  warnings.warn(f\"An issue occurred while importing 'torch-sparse'. \"\n"
          ]
        },
        {
          "output_type": "stream",
          "name": "stdout",
          "text": [
            "Train subgraph: Data(x=[123287, 166], edge_index=[2, 142784], y=[123287])\n",
            "# of training nodes: 123287\n",
            "# of edges: 142784\n"
          ]
        }
      ]
    },
    {
      "cell_type": "code",
      "source": [
        "print(classes_df.head())\n",
        "print(classes_df.columns)\n",
        "print(classes_df['class'].unique())\n"
      ],
      "metadata": {
        "colab": {
          "base_uri": "https://localhost:8080/"
        },
        "id": "-MwPqetFG_Al",
        "outputId": "d1b84f94-6a71-45bf-b273-5b8eea6d42bd"
      },
      "execution_count": 12,
      "outputs": [
        {
          "output_type": "stream",
          "name": "stdout",
          "text": [
            "        txId    class  label\n",
            "0  230425980  unknown     -1\n",
            "1    5530458  unknown     -1\n",
            "2  232022460  unknown     -1\n",
            "3  232438397        2      1\n",
            "4  230460314  unknown     -1\n",
            "Index(['txId', 'class', 'label'], dtype='object')\n",
            "['unknown' '2' '1']\n"
          ]
        }
      ]
    },
    {
      "cell_type": "code",
      "source": [
        "import torch\n",
        "import torch_geometric\n",
        "print(\"Torch:\", torch.__version__)\n",
        "print(\"CUDA available:\", torch.cuda.is_available())\n"
      ],
      "metadata": {
        "colab": {
          "base_uri": "https://localhost:8080/"
        },
        "id": "TOD7B7JJ-TY2",
        "outputId": "6d313bfa-d8f7-4957-bc46-4d9b0ad24b35"
      },
      "execution_count": 13,
      "outputs": [
        {
          "output_type": "stream",
          "name": "stdout",
          "text": [
            "Torch: 2.6.0+cu124\n",
            "CUDA available: True\n"
          ]
        }
      ]
    },
    {
      "cell_type": "markdown",
      "source": [
        "# Create Data Object\n",
        "\n",
        "Create a PyTorch Geometric Data object representing the full graph. It includes node features x, edge connections edge_index, and node labels y. This gives GNN models access to structured transaction data during training and inference.\n",
        "\n"
      ],
      "metadata": {
        "id": "1B3aJX2m_Jo_"
      }
    },
    {
      "cell_type": "code",
      "source": [
        "from torch_geometric.data import Data\n",
        "data = Data(x=x, edge_index=edge_index, y=y)\n"
      ],
      "metadata": {
        "id": "1_xknoE8_JDe"
      },
      "execution_count": 14,
      "outputs": []
    },
    {
      "cell_type": "markdown",
      "source": [
        "# The VGAE Encoder\n",
        "\n",
        "The `GCNEncoder` class defines the encoder used in our Variational Graph Autoencoder (VGAE). It leverages **Graph Convolutional Networks (GCNs)** to extract meaningful latent representations from node features and the graph structure.\n",
        "\n",
        "The encoder includes three GCN layers:\n",
        "\n",
        "1. `conv1`: Expands input features to 2× the latent size with ReLU activation  \n",
        "2. `conv_mu`: Outputs the **mean** vector of the latent distribution  \n",
        "3. `conv_logvar`: Outputs the **log-variance** vector\n",
        "\n",
        "This design follows the standard VAE framework, where each input is encoded as a Gaussian distribution:\n",
        "\n",
        "$$\n",
        "q(z \\mid x) = \\mathcal{N}(\\mu, \\sigma^2)\n",
        "$$\n",
        "\n",
        "The VGAE then samples from this distribution and decodes the latent embeddings to reconstruct the graph structure. This is a probabilistic approach that builds more robust and generalizable representations."
      ],
      "metadata": {
        "id": "ur76yGxMA-AP"
      }
    },
    {
      "cell_type": "code",
      "source": [
        "import torch.nn.functional as F\n",
        "from torch_geometric.nn import GCNConv, VGAE\n",
        "\n",
        "class GCNEncoder(torch.nn.Module):\n",
        "    def __init__(self, in_channels, out_channels):\n",
        "        super().__init__()\n",
        "        self.conv1 = GCNConv(in_channels, 2 * out_channels)\n",
        "        self.conv_mu = GCNConv(2 * out_channels, out_channels)\n",
        "        self.conv_logvar = GCNConv(2 * out_channels, out_channels)\n",
        "\n",
        "    def forward(self, x, edge_index):\n",
        "        x = F.relu(self.conv1(x, edge_index))\n",
        "        return self.conv_mu(x, edge_index), self.conv_logvar(x, edge_index)\n"
      ],
      "metadata": {
        "id": "ks6dqqszBCqo"
      },
      "execution_count": 15,
      "outputs": []
    },
    {
      "cell_type": "markdown",
      "source": [
        "# Set up the model and device"
      ],
      "metadata": {
        "id": "pADoO7ntBN2K"
      }
    },
    {
      "cell_type": "code",
      "source": [
        "device = torch.device('cuda' if torch.cuda.is_available() else 'cpu')\n",
        "print(\"Using device:\", device)\n",
        "\n",
        "model = VGAE(GCNEncoder(in_channels=train_data.num_features, out_channels=32)).to(device)\n",
        "train_data = train_data.to(device)\n"
      ],
      "metadata": {
        "colab": {
          "base_uri": "https://localhost:8080/"
        },
        "id": "qv0QMnXaBS5W",
        "outputId": "3b5d13d6-380a-4a3e-fa51-eeb81a0f62be"
      },
      "execution_count": 16,
      "outputs": [
        {
          "output_type": "stream",
          "name": "stdout",
          "text": [
            "Using device: cuda\n"
          ]
        }
      ]
    },
    {
      "cell_type": "markdown",
      "source": [
        "#  Training loop"
      ],
      "metadata": {
        "id": "11giAoQDBciC"
      }
    },
    {
      "cell_type": "code",
      "source": [
        "optimizer = torch.optim.Adam(model.parameters(), lr=0.01)\n",
        "\n",
        "def train():\n",
        "    model.train()\n",
        "    optimizer.zero_grad()\n",
        "    z = model.encode(train_data.x, train_data.edge_index)\n",
        "    loss = model.recon_loss(z, train_data.edge_index)\n",
        "    loss += (1 / train_data.num_nodes) * model.kl_loss()\n",
        "    loss.backward()\n",
        "    optimizer.step()\n",
        "    return loss.item()\n",
        "\n",
        "for epoch in range(1, 101):  # Try 20 if you're tight on time/memory\n",
        "    loss = train()\n",
        "    if epoch % 10 == 0:\n",
        "        print(f\"Epoch {epoch:03d}, Loss: {loss:.4f}\")\n"
      ],
      "metadata": {
        "colab": {
          "base_uri": "https://localhost:8080/"
        },
        "id": "GLl9bDpUBejs",
        "outputId": "d7583c45-48bd-4a1c-c569-5b1b5a7f2b74"
      },
      "execution_count": 17,
      "outputs": [
        {
          "output_type": "stream",
          "name": "stdout",
          "text": [
            "Epoch 010, Loss: 5.1321\n",
            "Epoch 020, Loss: 2.2253\n",
            "Epoch 030, Loss: 1.5108\n",
            "Epoch 040, Loss: 1.1906\n",
            "Epoch 050, Loss: 1.0492\n",
            "Epoch 060, Loss: 0.9819\n",
            "Epoch 070, Loss: 0.9506\n",
            "Epoch 080, Loss: 0.9301\n",
            "Epoch 090, Loss: 0.9184\n",
            "Epoch 100, Loss: 0.9044\n"
          ]
        }
      ]
    },
    {
      "cell_type": "markdown",
      "source": [
        "#  Prepare Test Nodes"
      ],
      "metadata": {
        "id": "wk7jz00aCOAP"
      }
    },
    {
      "cell_type": "code",
      "source": [
        "import numpy as np\n",
        "\n",
        "# Convert to tensor\n",
        "test_idx_tensor = torch.tensor(test_idx, dtype=torch.long)\n",
        "\n",
        "# Get features and labels for test nodes\n",
        "x_test = x[test_idx_tensor]\n",
        "y_test = y[test_idx_tensor]\n",
        "\n",
        "# Mask: only nodes with known labels (licit = 0, illicit = 1)\n",
        "test_mask = (y_test == 0) | (y_test == 1)\n",
        "x_test_labeled = x_test[test_mask]\n",
        "y_test_labeled = y_test[test_mask]\n"
      ],
      "metadata": {
        "id": "AUaMtKkYCQPj"
      },
      "execution_count": 18,
      "outputs": []
    },
    {
      "cell_type": "markdown",
      "source": [
        "# Embed the test nodes using trained encoder"
      ],
      "metadata": {
        "id": "dEHf2f8pCYOc"
      }
    },
    {
      "cell_type": "code",
      "source": [
        "with torch.no_grad():\n",
        "    z_train = model.encode(train_data.x, train_data.edge_index)\n"
      ],
      "metadata": {
        "id": "O73fPDmFCXfu"
      },
      "execution_count": 19,
      "outputs": []
    },
    {
      "cell_type": "code",
      "source": [
        "print(\"x_train.shape:\", x_train.shape)\n",
        "print(\"train_edge_index.max():\", train_edge_index.max().item())\n",
        "print(\"train_edge_index.min():\", train_edge_index.min().item())\n"
      ],
      "metadata": {
        "colab": {
          "base_uri": "https://localhost:8080/"
        },
        "id": "YykdsnlQI0cU",
        "outputId": "497c27df-9c12-4358-beef-d8d199809a10"
      },
      "execution_count": 20,
      "outputs": [
        {
          "output_type": "stream",
          "name": "stdout",
          "text": [
            "x_train.shape: torch.Size([123287, 166])\n",
            "train_edge_index.max(): 123286\n",
            "train_edge_index.min(): 0\n"
          ]
        }
      ]
    },
    {
      "cell_type": "code",
      "source": [
        "# Create self-loop edge index for test encoding\n",
        "num_test_nodes = x_test_labeled.shape[0]\n",
        "edge_index_test = torch.arange(0, num_test_nodes, dtype=torch.long).repeat(2, 1)\n",
        "\n",
        "# Encode test nodes without full graph\n",
        "with torch.no_grad():\n",
        "    z_test_mu, _ = model.encoder(x_test_labeled.to(device), edge_index_test.to(device))\n",
        "\n",
        "# Score based on distance from training centroid\n",
        "from sklearn.metrics.pairwise import euclidean_distances\n",
        "licit_mask_train = (train_data.y == 0)\n",
        "z_train_licit = z_train[licit_mask_train]\n",
        "centroid = z_train_licit.mean(dim=0, keepdim=True)\n",
        "\n",
        "distances = euclidean_distances(z_test_mu.cpu(), centroid.cpu())\n",
        "anomaly_scores = torch.tensor(distances).squeeze()\n",
        "\n",
        "# Evaluate\n",
        "from sklearn.metrics import roc_auc_score\n",
        "\n",
        "y_true = y_test_labeled.cpu().numpy()\n",
        "y_scores = anomaly_scores.cpu().numpy()\n",
        "\n",
        "roc_auc = roc_auc_score(y_true, y_scores)\n",
        "print(f\"🚀 ROC AUC on unseen future data: {roc_auc:.4f}\")\n"
      ],
      "metadata": {
        "colab": {
          "base_uri": "https://localhost:8080/"
        },
        "id": "prCT8j2_uDVH",
        "outputId": "36424395-beb4-4571-f2a5-2252ec14951b"
      },
      "execution_count": 21,
      "outputs": [
        {
          "output_type": "stream",
          "name": "stdout",
          "text": [
            "🚀 ROC AUC on unseen future data: 0.7962\n"
          ]
        }
      ]
    }
  ]
}