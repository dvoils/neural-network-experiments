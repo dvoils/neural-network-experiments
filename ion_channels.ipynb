{
  "nbformat": 4,
  "nbformat_minor": 0,
  "metadata": {
    "colab": {
      "provenance": [],
      "authorship_tag": "ABX9TyM2WAOwmuEyNRTk41MzuWDU",
      "include_colab_link": true
    },
    "kernelspec": {
      "name": "python3",
      "display_name": "Python 3"
    },
    "language_info": {
      "name": "python"
    }
  },
  "cells": [
    {
      "cell_type": "markdown",
      "metadata": {
        "id": "view-in-github",
        "colab_type": "text"
      },
      "source": [
        "<a href=\"https://colab.research.google.com/github/dvoils/neural-network-experiments/blob/main/ion_channels.ipynb\" target=\"_parent\"><img src=\"https://colab.research.google.com/assets/colab-badge.svg\" alt=\"Open In Colab\"/></a>"
      ]
    },
    {
      "cell_type": "markdown",
      "source": [
        "# Ion Channels\n",
        "\n",
        "The classic **Hodgkin-Huxley (HH) model** describes spike generation in the squid giant axon using **sodium** and **potassium** channels. In that model:\n",
        "\n",
        "* A brief influx of **sodium ions** triggers the action potential (spike).\n",
        "* An efflux of **potassium ions** follows, repolarizing the membrane.\n",
        "\n",
        "This basic mechanism (fast Na$^+$ influx followed by K$^+$ efflux) underlies spike generation across many organisms.\n",
        "\n",
        "However, **cortical neurons** in vertebrates have **many more types of ion channels**, leading to more diverse and complex electrophysiological behavior.\n",
        "\n",
        "## Membrane Potential\n",
        "\n",
        "The following describes the dynamics of membrane potential $u(t)$:\n",
        "\n",
        "$$\n",
        "C \\frac{d}{dt} u(t) = I_{syn}(t) + \\sum_k I_k(t)\n",
        "$$\n",
        "\n",
        "where:\n",
        "\n",
        "* $C$ is membrane capacitance.\n",
        "* $I_{syn}(t)$ is the synaptic input current (current from synapses).\n",
        "* $I_k(t)$ are currents from various ion channels.\n",
        "\n",
        "In essence, this equation says: the rate of change of membrane voltage depends on the net current flowing into the neuron.\n",
        "\n",
        "## Ionic Current\n",
        "\n",
        "The ionic current through a specific channel $k$ is:\n",
        "\n",
        "$$\n",
        "I_k = \\bar{g}_k m^{p_k} h^{q_k} (u - E_k)\n",
        "$$\n",
        "\n",
        "where:\n",
        "\n",
        "* $\\bar{g}_k$ is the maximum conductance of the channel.\n",
        "* $m$ and $h$ are gating variables representing activation and inactivation.\n",
        "* $p_k$ and $q_k$ are exponents describing how the gating variables contribute to channel conductance (typically from empirical fits).\n",
        "* $E_k$ is the reversal potential (where there is no net current flow).\n",
        "\n",
        "In the original HH model, for potassium, typically $p_k = 4$ and $q_k = 0$, meaning inactivation ($h$) is omitted.\n",
        "\n",
        "While the HH model is a solid foundation (with two channel types), real neurons have **many different channels**—hence the term “zoo of ion channels.” The subsequent sections delve into various channel types, starting with sodium channels.\n"
      ],
      "metadata": {
        "id": "1hyYssE30ZW6"
      }
    }
  ]
}